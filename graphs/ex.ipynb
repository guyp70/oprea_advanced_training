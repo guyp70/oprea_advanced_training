{
  "metadata": {
    "kernelspec": {
      "name": "python",
      "display_name": "Python (Pyodide)",
      "language": "python"
    },
    "language_info": {
      "codemirror_mode": {
        "name": "python",
        "version": 3
      },
      "file_extension": ".py",
      "mimetype": "text/x-python",
      "name": "python",
      "nbconvert_exporter": "python",
      "pygments_lexer": "ipython3",
      "version": "3.8"
    }
  },
  "nbformat_minor": 5,
  "nbformat": 4,
  "cells": [
    {
      "cell_type": "markdown",
      "source": "# Interactive Visualization with Plotly\n\nThis tutorial is a part of the [Zero to Data Science Bootcamp by Jovian](https://zerotodatascience.com)\n\n![](https://i.imgur.com/jPcmxke.jpg)\n\nPlotly is a Python library used for creating interactive visualizations (graphs & charts). Unlike Matplotlib and Seaborn which create static images, Plotly renders an HTML document and uses JavaScript under the hood to enable interactivity. Plotly also offers a large selection of chart types to choose from.\n",
      "metadata": {},
      "id": "c115f31c-2fe2-40ab-9ef3-91cb418ab777"
    },
    {
      "cell_type": "markdown",
      "source": "The following topics are covered in this tutorial:\n\n- Creating figures & adding interactive elements\n- A quick tour of popular interactive charts\n- Using Plotly as a plotting backend for Pandas \n- Creating and exploring 3D graphs\n- Adding controls and animating graphs",
      "metadata": {},
      "id": "f8b71e52-5183-4bc1-a2e1-49f988c66ec1"
    },
    {
      "cell_type": "markdown",
      "source": "### How to run the code\n\nThis tutorial is an executable [Jupyter notebook](https://jupyter.org) hosted on [Jovian](https://www.jovian.ai). You can _run_ this tutorial and experiment with the code examples in a couple of ways: *using free online resources* (recommended) or *on your computer*.\n\n#### Option 1: Running using free online resources (1-click, recommended)\n\nThe easiest way to start executing the code is to click the **Run** button at the top of this page and select **Run on Binder**. You can also select \"Run on Colab\" or \"Run on Kaggle\", but you'll need to create an account on [Google Colab](https://colab.research.google.com) or [Kaggle](https://kaggle.com) to use these platforms.\n\n\n#### Option 2: Running on your computer locally\n\nTo run the code on your computer locally, you'll need to set up [Python](https://www.python.org), download the notebook and install the required libraries. We recommend using the [Conda](https://docs.conda.io/projects/conda/en/latest/user-guide/install/) distribution of Python. Click the **Run** button at the top of this page, select the **Run Locally** option, and follow the instructions.\n\n",
      "metadata": {},
      "id": "cc486a88-99b7-4ae7-9dc4-685d72b82a84"
    },
    {
      "cell_type": "markdown",
      "source": "Let's begin by installing and importing the required libraries.",
      "metadata": {},
      "id": "cbd65de0-547b-46c4-a26d-ca39955a21a6"
    },
    {
      "cell_type": "code",
      "source": "%pip install pandas numpy plotly nbformat>=4.2.0",
      "metadata": {
        "trusted": true
      },
      "execution_count": 1,
      "outputs": [],
      "id": "5c2a23ba-c5a4-4215-a43a-b0115933622c"
    },
    {
      "cell_type": "code",
      "source": "import pandas as pd\nimport numpy as np",
      "metadata": {
        "trusted": true
      },
      "execution_count": null,
      "outputs": [],
      "id": "7485f043-595b-4016-bb0e-40333986af5e"
    },
    {
      "cell_type": "markdown",
      "source": "## Creating Figures and Adding Interactive Elements\n\nLike Matplotlib, Plotly provides several low-level functions for creating and customizing figures. While they offer fine grained control over various aspects of a graph, they're quite verbose and can be cumbersome to use. We'll start out by using Plotly express, a high-level API similar to Seaborn, that allows creating and customizing charts with a single line of code.\n\nPlotly express is often imported using the alias `px`.",
      "metadata": {},
      "id": "d7614482-5a6c-4724-8a7c-a2d7c0c3a948"
    },
    {
      "cell_type": "code",
      "source": "import plotly.express as px",
      "metadata": {
        "trusted": true
      },
      "execution_count": null,
      "outputs": [],
      "id": "0d9ed7aa-d5c8-43fc-87b7-60b3a5a82e9d"
    },
    {
      "cell_type": "markdown",
      "source": "Let's download a [country-wise population dataset](https://data.worldbank.org/indicator/SP.POP.TOTL) from World Bank Open Data.",
      "metadata": {},
      "id": "9e8055f6-ea92-414d-8f3a-479d9ca740ef"
    },
    {
      "cell_type": "code",
      "source": "population_df = pd.read_csv('population.csv', index_col='Year')\npopulation_df[:5]",
      "metadata": {
        "trusted": true
      },
      "execution_count": null,
      "outputs": [],
      "id": "a777cda0-e269-4fd9-99f8-76aaa10a9d97"
    },
    {
      "cell_type": "markdown",
      "source": "Let's use `px.line` to create a line chart showing the population of Hungary from 1960 to 2019.",
      "metadata": {},
      "id": "33612534-1e48-4541-ae2e-05a7ef9a6cf9"
    },
    {
      "cell_type": "code",
      "source": "?px.line",
      "metadata": {
        "trusted": true
      },
      "execution_count": null,
      "outputs": [],
      "id": "5220925c-8e61-4fa8-9d7d-00bae6d1d4fb"
    },
    {
      "cell_type": "code",
      "source": "px.line(population_df['Hungary'], title=\"Population\")",
      "metadata": {
        "trusted": true
      },
      "execution_count": null,
      "outputs": [],
      "id": "51b2c43b-e645-48f2-9b42-12406d9d0136"
    },
    {
      "cell_type": "markdown",
      "source": "Note the following:\n\n* `px.line` automatically picks the index of the series as the X-axis. \n* You can hover over any point on the line to view the exact value.\n* You can Zoom in and out using the controls to take a closer look at specific areas of the chart. \n* There are several other controls e.g pan, autoscale, download PNG etc.\n\nFor fine grained control over various aspects of the chart, we can use the Figure object returned by `px.line`. Let's change the axis labels, chart colors, and ensure that the y axis starts at 0.",
      "metadata": {},
      "id": "018bbf3c-0fdf-4be5-aeec-2410b6ec1ed7"
    },
    {
      "cell_type": "code",
      "source": "fig = px.line(population_df['Hungary'])",
      "metadata": {
        "trusted": true
      },
      "execution_count": null,
      "outputs": [],
      "id": "e1d8d71f-c152-4a35-8f76-86e33849c41b"
    },
    {
      "cell_type": "code",
      "source": "# Set axis & legend labels\nfig.update_layout(\n    title=\"Year-Wise Population\",\n    xaxis_title=\"Year\",\n    yaxis_title=\"Population\",\n    legend_title=\"Country\",\n    plot_bgcolor='#ffcc9c',\n    font=dict(\n        family=\"Arial\",\n        size=14,\n        color=\"#cc3e0e\"\n    )\n)\n\n# Start the Y axis from 0\nfig.update_yaxes(rangemode='tozero')",
      "metadata": {
        "trusted": true
      },
      "execution_count": null,
      "outputs": [],
      "id": "7776c01a-0ca9-426e-b7cc-0435f36856a8"
    },
    {
      "cell_type": "markdown",
      "source": "Here's a list of properties you can set using `update_layout`: https://plotly.com/python/reference/layout/\n\nPlotly also has built-in support for Pandas dataframes.\n\n\n**Note**: Sometimes `fig.show()` does not display the graph on your jupyter notebook then you will have to run the code shared below in a code cell.\n\n\n```\n#Import necessary libraries\nimport plotly.offline as pyo\nimport plotly.graph_objs as go\n#Set notebook mode to work in offline\npyo.init_notebook_mode()\n\n```",
      "metadata": {},
      "id": "8a30a16d-0fef-40a8-b193-0f7ac667dc76"
    },
    {
      "cell_type": "code",
      "source": "europe_df = population_df[['Hungary', 'Czech Republic', 'Switzerland']]\neurope_df.head()",
      "metadata": {
        "trusted": true
      },
      "execution_count": null,
      "outputs": [],
      "id": "8b8915f6-e31f-4810-972b-21efa12694f5"
    },
    {
      "cell_type": "code",
      "source": "fig = px.line(europe_df,\n              title='Population', \n              color_discrete_sequence=[\"aquamarine\", \"cornflowerblue\", \"goldenrod\"])\n\nfig.update_layout(yaxis_title='Population', \n                  legend_title='Countries', \n                  font_size=14)\n\nfig.update_yaxes(rangemode='tozero')\n\nfig.show()",
      "metadata": {
        "trusted": true
      },
      "execution_count": null,
      "outputs": [],
      "id": "30a99ba4-27aa-489a-8531-9e8195297300"
    },
    {
      "cell_type": "markdown",
      "source": "Note that apart from providing RGB hexcodes for colors, we can also use named CSS colors: https://www.w3schools.com/cssref/css_colors.asp",
      "metadata": {},
      "id": "fd2e5471-3f74-4b56-affd-73536f021b26"
    },
    {
      "cell_type": "code",
      "source": "?px.line",
      "metadata": {
        "trusted": true
      },
      "execution_count": null,
      "outputs": [],
      "id": "bbe7ef29-0e8c-41e2-8556-7ff741161ada"
    },
    {
      "cell_type": "markdown",
      "source": "Switching from a line chart to a bar chart is simply a matter of replacing `plt.line` with `plt.bar`.",
      "metadata": {},
      "id": "8dd9dd2f-d425-4d43-9549-6a4facaae469"
    },
    {
      "cell_type": "code",
      "source": "px.bar(population_df[['Bangladesh', 'Pakistan']], \n       title=\"Population\", \n       barmode='group')",
      "metadata": {
        "trusted": true
      },
      "execution_count": null,
      "outputs": [],
      "id": "fdcfda0e-d64e-4456-a128-8a40383fdec4"
    },
    {
      "cell_type": "markdown",
      "source": "> **EXERCISE**: Compare the annual population increase of India and China using a line chart. Which of the two countries is growing faster? Hint: Use `population_df.diff()`",
      "metadata": {},
      "id": "b15a04e6-43a6-4804-8995-8f91589f1976"
    },
    {
      "cell_type": "code",
      "source": "",
      "metadata": {},
      "execution_count": null,
      "outputs": [],
      "id": "50c9b0e2-f66e-4caa-9134-d980b7a5f2ae"
    },
    {
      "cell_type": "code",
      "source": "",
      "metadata": {},
      "execution_count": null,
      "outputs": [],
      "id": "602e7e14-ad08-4ba1-b63f-86f955e3bd35"
    },
    {
      "cell_type": "markdown",
      "source": "> **EXERCISE**: Compare the populations of 10 most populous African countries (as of 2019) over the last 50 years using line charts. ",
      "metadata": {},
      "id": "7de7a265-ad53-4bf9-8da5-15f4083c53a0"
    },
    {
      "cell_type": "code",
      "source": "",
      "metadata": {},
      "execution_count": null,
      "outputs": [],
      "id": "b071dd7c-3842-4517-946a-c9ef5c1b8adf"
    },
    {
      "cell_type": "code",
      "source": "",
      "metadata": {},
      "execution_count": null,
      "outputs": [],
      "id": "c953f0e7-55ea-407d-bdea-b7450bf9f0a2"
    },
    {
      "cell_type": "markdown",
      "source": "> **EXERCISE**: Explore the documentation for `px.line`, `fig.update_layout` and `fig.update_yaxes`. Use their arguments to style the charts you've created.",
      "metadata": {},
      "id": "dfb173b0-70e6-4377-ac8c-02b9fff87426"
    },
    {
      "cell_type": "code",
      "source": "",
      "metadata": {},
      "execution_count": null,
      "outputs": [],
      "id": "a1148a98-f48b-4728-b11c-f407dbfded03"
    },
    {
      "cell_type": "code",
      "source": "",
      "metadata": {},
      "execution_count": null,
      "outputs": [],
      "id": "9d31f2b7-6d32-42f5-af56-3acfceafe04b"
    },
    {
      "cell_type": "markdown",
      "source": "## A quick tour of popular interactive charts\n\nPlotly express provides more than 30 figure for creating different types of figures. Let's explore some popular interactive visualization techniques. We'll use the [built-in datasets](https://plotly.com/python-api-reference/generated/plotly.express.data.html) from `px.data` to demonstrate their usage.",
      "metadata": {},
      "id": "fabd0618-5b96-410d-8349-d84d767f6ad3"
    },
    {
      "cell_type": "markdown",
      "source": "### Scatter Plot\n\n",
      "metadata": {},
      "id": "deb8dfa5-30a7-46c8-99b4-72a65a749f15"
    },
    {
      "cell_type": "code",
      "source": "iris_df = px.data.iris()\niris_df",
      "metadata": {
        "trusted": true
      },
      "execution_count": null,
      "outputs": [],
      "id": "b94290ce-c757-40d7-9ad4-041d1332b975"
    },
    {
      "cell_type": "code",
      "source": "px.scatter(iris_df, \n           x=\"sepal_width\", \n           y=\"sepal_length\", \n           color=\"species\",\n           size='petal_length', \n           hover_data=['petal_width'])",
      "metadata": {
        "trusted": true
      },
      "execution_count": null,
      "outputs": [],
      "id": "15e7ba0a-db53-4542-914d-1e05c027cfa6"
    },
    {
      "cell_type": "markdown",
      "source": "> **EXERCISE**: Download the dataset `px.data.gapminder()` and visualize the relationship between GDP per capita and life expectancy in the year 2007 using a scatter plot. Set proper titles for the figure and the axes. Color the dots using the values in `continent` column, and show the country name and population on hover. ",
      "metadata": {},
      "id": "44bbec0e-e004-4a95-b36b-d214c5cc481c"
    },
    {
      "cell_type": "code",
      "source": "px.data.gapminder()",
      "metadata": {
        "trusted": true
      },
      "execution_count": null,
      "outputs": [],
      "id": "0f1d12e8-56bf-426d-a867-c6ac2dfa59d8"
    },
    {
      "cell_type": "code",
      "source": "",
      "metadata": {},
      "execution_count": null,
      "outputs": [],
      "id": "95a2d8dd-d6f7-41d0-a7a0-7bf909c7ec69"
    },
    {
      "cell_type": "markdown",
      "source": "### Bar Chart\n\nWe'll use the dataset `medals_long`, which contains represents the medal table for Olympic Short Track Speed Skating for the top three nations as of 2020.",
      "metadata": {},
      "id": "7250e3b6-38a1-4764-bacb-2b1ae0bb467c"
    },
    {
      "cell_type": "code",
      "source": "long_df = px.data.medals_long()\nlong_df",
      "metadata": {
        "trusted": true
      },
      "execution_count": null,
      "outputs": [],
      "id": "0c4068cc-7044-41d8-9d2e-196954c2b967"
    },
    {
      "cell_type": "code",
      "source": "fig = px.bar(long_df, \n             x=\"nation\", \n             y=\"count\", \n             color=\"medal\", \n             title=\"Olympic Short Track Speed Skating Medals\",\n             color_discrete_sequence=[\"#AF9500\", \"#B4B4B4\", \"#6A3805\"])\nfig.show()",
      "metadata": {
        "trusted": true
      },
      "execution_count": null,
      "outputs": [],
      "id": "61707da5-11b1-4c91-8666-ee9d9d96ea7b"
    },
    {
      "cell_type": "markdown",
      "source": "> **EXERCISE**: Look up the documentation of `px.bar` and show the bars in the above chart side by side instead of stacking them on top of each other.",
      "metadata": {},
      "id": "e4aead9e-bc79-4bdd-9fb0-ecce37b76eac"
    },
    {
      "cell_type": "code",
      "source": "",
      "metadata": {},
      "execution_count": null,
      "outputs": [],
      "id": "99a983f6-0a06-4976-a41f-ce7d24553bde"
    },
    {
      "cell_type": "code",
      "source": "",
      "metadata": {},
      "execution_count": null,
      "outputs": [],
      "id": "d0572c09-0018-4178-b35c-e1633f17246e"
    },
    {
      "cell_type": "markdown",
      "source": "> **EXERCISE**: Replicate the above example with a different dataset. Find a dataset online or pick one from this page: https://plotly.com/python-api-reference/generated/plotly.express.data.html",
      "metadata": {},
      "id": "879dbb29-85b0-469c-af44-7efaa06acf4a"
    },
    {
      "cell_type": "code",
      "source": "",
      "metadata": {},
      "execution_count": null,
      "outputs": [],
      "id": "9eddc0c1-30c7-4ddf-bc16-e009c7000e05"
    },
    {
      "cell_type": "code",
      "source": "",
      "metadata": {},
      "execution_count": null,
      "outputs": [],
      "id": "4ef1176e-cf40-48c8-b3c1-9c139b13f130"
    },
    {
      "cell_type": "markdown",
      "source": "### Treemap and Sunburst",
      "metadata": {},
      "id": "1d414b5e-0eee-4cf1-b1e9-c7de6c73d943"
    },
    {
      "cell_type": "code",
      "source": "gapminder_df = px.data.gapminder().query(\"year == 2007\")\ngapminder_df[\"world\"] = \"World\"\ngapminder_df",
      "metadata": {
        "trusted": true
      },
      "execution_count": null,
      "outputs": [],
      "id": "0bf80ee3-33e4-4129-88a5-b41ea0b06827"
    },
    {
      "cell_type": "code",
      "source": "fig = px.treemap(gapminder_df, \n                 path=['world','continent', 'country'], \n                 values='pop',\n                 color='lifeExp', \n                 color_continuous_scale='RdBu')\nfig.show()",
      "metadata": {
        "trusted": true
      },
      "execution_count": null,
      "outputs": [],
      "id": "30895a33-ffea-4095-90d8-6d02225374d5"
    },
    {
      "cell_type": "markdown",
      "source": "> **EXERCISE**: Replace `px.treemap` with `px.sunburst` in the above example and study the figure that's created. Can you tell what it represents?",
      "metadata": {},
      "id": "e7ff5a73-9c9b-42e6-85ac-dc60e348b511"
    },
    {
      "cell_type": "code",
      "source": "fig = px.sunburst(gapminder_df, \n                 path=['continent', 'country'], \n                 values='pop',\n                 color='lifeExp', \n                 color_continuous_scale='RdBu')\nfig.show()",
      "metadata": {
        "trusted": true
      },
      "execution_count": null,
      "outputs": [],
      "id": "dffb5dfd-d916-4267-87c2-b779b0d3a947"
    },
    {
      "cell_type": "code",
      "source": "",
      "metadata": {},
      "execution_count": null,
      "outputs": [],
      "id": "e888b7b3-4da2-4dc0-9aca-e0087579d09e"
    },
    {
      "cell_type": "markdown",
      "source": "> **EXERCISE**: Replicate the above example with a different dataset. Find a dataset online or pick one from this page: https://plotly.com/python-api-reference/generated/plotly.express.data.html",
      "metadata": {},
      "id": "aafe7406-b880-4c6d-83eb-79792387a6ea"
    },
    {
      "cell_type": "code",
      "source": "",
      "metadata": {},
      "execution_count": null,
      "outputs": [],
      "id": "586e1043-a664-4b81-ab97-529eb2d049f4"
    },
    {
      "cell_type": "code",
      "source": "",
      "metadata": {},
      "execution_count": null,
      "outputs": [],
      "id": "dad1e9f4-5906-4958-918c-590780b9e2b7"
    },
    {
      "cell_type": "markdown",
      "source": "Learn more about Treemap and Sunburst charts here: \n\n* https://plotly.com/python/treemaps/\n* https://plotly.com/python/sunburst-charts/\n",
      "metadata": {},
      "id": "d19a9efe-7f0d-49d2-b156-dd541c0fcee5"
    },
    {
      "cell_type": "markdown",
      "source": "### Histogram and Rug Plots",
      "metadata": {},
      "id": "d4bfa89e-3226-46c4-8252-7324a207b7df"
    },
    {
      "cell_type": "code",
      "source": "tips_df = px.data.tips()\ntips_df",
      "metadata": {
        "trusted": true
      },
      "execution_count": null,
      "outputs": [],
      "id": "023fe78c-5a70-403a-9e6e-9ac599bb33d2"
    },
    {
      "cell_type": "code",
      "source": "fig = px.histogram(tips_df, \n                   x=\"total_bill\", \n                   color=\"sex\", \n                   marginal=\"rug\", \n                   hover_data=tips_df.columns)\nfig.show()",
      "metadata": {
        "trusted": true
      },
      "execution_count": null,
      "outputs": [],
      "id": "ce35a895-852d-418c-8eaa-1a8144b4faa0"
    },
    {
      "cell_type": "code",
      "source": "",
      "metadata": {},
      "execution_count": null,
      "outputs": [],
      "id": "f3328dc5-c90a-4ca7-b842-12dcf1b2b14c"
    },
    {
      "cell_type": "code",
      "source": "",
      "metadata": {},
      "execution_count": null,
      "outputs": [],
      "id": "2a693eb9-05f3-40fd-93a8-138f1b7b5a6e"
    },
    {
      "cell_type": "markdown",
      "source": "> **EXERCISE**: Replace `\"rug\"` with `\"box\"` or `\"violin\"` in the above example and study the charts. Do you understand what the marginal plots represent?",
      "metadata": {},
      "id": "d5ab7e6f-6ea8-4b67-86e5-135330b5da01"
    },
    {
      "cell_type": "code",
      "source": "",
      "metadata": {},
      "execution_count": null,
      "outputs": [],
      "id": "82d323f3-cea4-45bb-b828-b9d34e1b00bf"
    },
    {
      "cell_type": "code",
      "source": "",
      "metadata": {},
      "execution_count": null,
      "outputs": [],
      "id": "eadf4b02-248a-4087-b564-bab145f4d714"
    },
    {
      "cell_type": "markdown",
      "source": "> **EXERCISE**: Replicate the above example with a different dataset. Find a dataset online or pick one from this page: https://plotly.com/python-api-reference/generated/plotly.express.data.html",
      "metadata": {},
      "id": "de28ab7c-0693-4956-9172-2044c15480a1"
    },
    {
      "cell_type": "code",
      "source": "",
      "metadata": {},
      "execution_count": null,
      "outputs": [],
      "id": "4b6107ad-61b1-4068-8d8a-4979334cf015"
    },
    {
      "cell_type": "code",
      "source": "",
      "metadata": {},
      "execution_count": null,
      "outputs": [],
      "id": "ce1d6b98-0b75-41db-858c-7a14c349fac5"
    },
    {
      "cell_type": "markdown",
      "source": "Learn more about histograms in Plotly here: https://plotly.com/python/histograms/",
      "metadata": {},
      "id": "bfa1c34c-4044-4d0b-92f5-74ba15fef471"
    },
    {
      "cell_type": "markdown",
      "source": "### Polar Chart",
      "metadata": {},
      "id": "fcf41f0b-e60e-49bc-b8b0-670bfe0a0f96"
    },
    {
      "cell_type": "code",
      "source": "wind_df = px.data.wind()\nwind_df",
      "metadata": {
        "trusted": true
      },
      "execution_count": null,
      "outputs": [],
      "id": "3201ac77-7585-4ece-9c36-66313c6f0cc5"
    },
    {
      "cell_type": "code",
      "source": "fig = px.line_polar(wind_df, \n                    r=\"frequency\",\n                    theta=\"direction\", \n                    color=\"strength\", \n                    line_close=True,\n                    color_discrete_sequence=px.colors.sequential.Plasma_r,\n                    template=\"plotly_dark\")\nfig.show()",
      "metadata": {
        "trusted": true
      },
      "execution_count": null,
      "outputs": [],
      "id": "ad048ae0-3481-4b8f-a4fc-b01c8128ab17"
    },
    {
      "cell_type": "markdown",
      "source": "> **EXERCISE**: Replace `line_polar` with `scatter_polar` or `bar_polar` in the example above and interpret the chart. When would you use one vs. the other?",
      "metadata": {},
      "id": "67ce63c5-761f-48d5-a166-ace4a604bbbd"
    },
    {
      "cell_type": "code",
      "source": "",
      "metadata": {},
      "execution_count": null,
      "outputs": [],
      "id": "c24f775c-1ac8-49ae-aa19-fc520eec9bf8"
    },
    {
      "cell_type": "code",
      "source": "",
      "metadata": {},
      "execution_count": null,
      "outputs": [],
      "id": "27a76905-78d6-4e57-9530-875676799c55"
    },
    {
      "cell_type": "markdown",
      "source": "> **EXERCISE**: Replicate the above example with a different dataset. Find a dataset online or pick one from this page: https://plotly.com/python-api-reference/generated/plotly.express.data.html",
      "metadata": {},
      "id": "e3354cbc-de10-4826-a821-27aef02257a1"
    },
    {
      "cell_type": "code",
      "source": "",
      "metadata": {},
      "execution_count": null,
      "outputs": [],
      "id": "ca9ece63-0bf0-4ec3-89dd-a633f1ecbe77"
    },
    {
      "cell_type": "code",
      "source": "",
      "metadata": {},
      "execution_count": null,
      "outputs": [],
      "id": "8dae92be-fdb6-4f35-b6d7-062065382a2e"
    },
    {
      "cell_type": "markdown",
      "source": "Learn more about polar charts in plotly here: https://plotly.com/python/polar-chart/",
      "metadata": {},
      "id": "7b405627-93cc-40de-a526-9505c6185273"
    },
    {
      "cell_type": "markdown",
      "source": "## Using Plotly as a plotting backend for Pandas\n\nWe can configure Pandas to use Plotly as the backend for the `plot` methods of Pandas data frames & series. You can learn more about this here: https://plotly.com/python/pandas-backend/. \n\nThe Plotly backend can be enabled as follows:",
      "metadata": {},
      "id": "117b019c-2522-4dda-bffd-68dcdbf79d8e"
    },
    {
      "cell_type": "code",
      "source": "pd.options.plotting.backend = \"plotly\"",
      "metadata": {
        "trusted": true
      },
      "execution_count": null,
      "outputs": [],
      "id": "379fe0f7-49c9-4c33-9ad4-3b32094926ac"
    },
    {
      "cell_type": "markdown",
      "source": "The Plotly backend supports the following kinds of Pandas plots: `scatter`, `line`, `area`, `bar`, `barh`, `hist` and `box`. Let's look at some examples.",
      "metadata": {},
      "id": "22abadd7-68c0-4c6e-85ee-325e23e28324"
    },
    {
      "cell_type": "code",
      "source": "europe_df = population_df[['Germany', 'United Kingdom', 'France', 'Italy']]\n\neurope_df.plot(kind='area', title=\"Population\")",
      "metadata": {
        "trusted": true
      },
      "execution_count": null,
      "outputs": [],
      "id": "74768a10-dda7-46f8-b9cf-41deab2d95e3"
    },
    {
      "cell_type": "code",
      "source": "long_df",
      "metadata": {
        "trusted": true
      },
      "execution_count": null,
      "outputs": [],
      "id": "71a3965d-86ff-42ef-9402-cf724565fb68"
    },
    {
      "cell_type": "code",
      "source": "long_df.plot(x='count', \n             y='nation', \n             kind='barh', \n             color='medal', \n             barmode='group', \n             title=\"Olympic Short Track Speed Skating Medals\",\n             color_discrete_sequence=[\"#AF9500\", \"#B4B4B4\", \"#6A3805\"])",
      "metadata": {
        "trusted": true
      },
      "execution_count": null,
      "outputs": [],
      "id": "7147cc34-a381-4a88-b1b1-1cb3b8789538"
    },
    {
      "cell_type": "code",
      "source": "tips_df",
      "metadata": {
        "trusted": true
      },
      "execution_count": null,
      "outputs": [],
      "id": "f2abdc7e-76e8-468b-a582-d2d681aedcd2"
    },
    {
      "cell_type": "code",
      "source": "fig = tips_df.plot('total_bill', \n                   kind='hist', \n                   title=\"Distribution of Total Bill\")\nfig.update_layout(bargap=0.1)\nfig.show()",
      "metadata": {
        "trusted": true
      },
      "execution_count": null,
      "outputs": [],
      "id": "debb86d2-f58d-40ec-93bb-bdfdfb7fa8da"
    },
    {
      "cell_type": "code",
      "source": "tips_df.plot('tip', kind='box', color='sex')",
      "metadata": {
        "trusted": true
      },
      "execution_count": null,
      "outputs": [],
      "id": "4581d070-f185-405f-aef1-9e15d56e8c9a"
    },
    {
      "cell_type": "markdown",
      "source": "> **EXERCISE**: Replicate the above examples with different datasets. Find a dataset online or pick from this page: https://plotly.com/python-api-reference/generated/plotly.express.data.html",
      "metadata": {},
      "id": "1a8386c7-2374-42a3-8416-4e5a43b183d1"
    },
    {
      "cell_type": "code",
      "source": "",
      "metadata": {},
      "execution_count": null,
      "outputs": [],
      "id": "2a1bee68-b37c-417f-90ad-4311beddb5d1"
    },
    {
      "cell_type": "code",
      "source": "",
      "metadata": {},
      "execution_count": null,
      "outputs": [],
      "id": "5b609024-7904-45b7-a1b6-bf0c1661da15"
    },
    {
      "cell_type": "markdown",
      "source": "## Creating and exploring 3D graphs\n\nPlotly can also be used to create 3D graphs. Let's look at an example of 3D surface plots, by plotting the elevation of a mountain.",
      "metadata": {},
      "id": "eedf2e9a-5ac5-4adb-98a1-587924e8ea90"
    },
    {
      "cell_type": "code",
      "source": "import pandas as pd\n\nz_data = pd.read_csv('https://raw.githubusercontent.com/plotly/datasets/master/api_docs/mt_bruno_elevation.csv', index_col=0)\nz_data",
      "metadata": {
        "trusted": true
      },
      "execution_count": null,
      "outputs": [],
      "id": "c1717894-6fdb-4a60-aed3-db441407dfec"
    },
    {
      "cell_type": "markdown",
      "source": "We need to use the low level `graph_objects` API to create a 3d surface and attach it to a figure.",
      "metadata": {},
      "id": "3d2e24c8-3c56-42f4-b147-ac49232536e3"
    },
    {
      "cell_type": "code",
      "source": "import plotly.graph_objects as go\n\nsurface=go.Surface(z=z_data.values)\nfig = go.Figure(surface)\nfig.update_layout(title='Mt. Bruno Elevation')\nfig.show()",
      "metadata": {
        "trusted": true
      },
      "execution_count": null,
      "outputs": [],
      "id": "5513607f-240c-4983-90dd-970d673c6e90"
    },
    {
      "cell_type": "markdown",
      "source": "Plotly express can be used to create 3D linear and scatter plots.",
      "metadata": {},
      "id": "18969e38-a989-4203-a0a0-73c821632481"
    },
    {
      "cell_type": "code",
      "source": "df = px.data.gapminder().query(\"country=='Brazil'\")\nfig = px.line_3d(df, x=\"gdpPercap\", y=\"pop\", z=\"year\")\nfig.show()",
      "metadata": {
        "trusted": true
      },
      "execution_count": null,
      "outputs": [],
      "id": "acade8fb-1aaf-4f70-a434-50ab5f119f9a"
    },
    {
      "cell_type": "code",
      "source": "iris_df",
      "metadata": {
        "trusted": true
      },
      "execution_count": null,
      "outputs": [],
      "id": "d2a9ad58-2e53-450c-9ef1-b5cb16735792"
    },
    {
      "cell_type": "code",
      "source": "px.scatter_3d(iris_df, \n              x='sepal_length', \n              y='sepal_width', \n              z='petal_width', color='species')",
      "metadata": {
        "trusted": true
      },
      "execution_count": null,
      "outputs": [],
      "id": "edc6e5e8-34ba-4494-bc3f-8dddae19ddab"
    },
    {
      "cell_type": "markdown",
      "source": "> **EXERCISE**: Create some 3D surface, line and scatter plots using some other datasets.",
      "metadata": {},
      "id": "92565734-d7f7-4bef-b2d7-e0e8afba7ba8"
    },
    {
      "cell_type": "code",
      "source": "",
      "metadata": {},
      "execution_count": null,
      "outputs": [],
      "id": "23607fe7-cbd4-4411-be21-26f587dd3a15"
    },
    {
      "cell_type": "code",
      "source": "",
      "metadata": {},
      "execution_count": null,
      "outputs": [],
      "id": "970e5fc2-04b1-4592-9fdd-a960535eee93"
    },
    {
      "cell_type": "markdown",
      "source": "## Adding controls and animating graphs\n\nPlotly express graphs can be animated by specifying an `animation_frame` column. Additionally, an `animation_group` can be specified to uniquely identify objects across frames. An animated graph also provides slider controls to skip to any frame.",
      "metadata": {},
      "id": "d795a02d-565e-455f-851b-02876c9028eb"
    },
    {
      "cell_type": "code",
      "source": "df = px.data.gapminder()\ndf",
      "metadata": {
        "trusted": true
      },
      "execution_count": null,
      "outputs": [],
      "id": "b26b8faa-c642-4328-b7bc-2067c163f9d3"
    },
    {
      "cell_type": "code",
      "source": "df = px.data.gapminder()\n\nfig = px.scatter(df, \n                 x=\"gdpPercap\", \n                 y=\"lifeExp\", \n                 animation_frame=\"year\", \n                 animation_group=\"country\",\n#                  size=\"pop\",     \n                 color=\"continent\", \n                 hover_name=\"country\",\n                 log_x=True, \n                 size_max=80, \n                 range_x=[100,100000], \n                 range_y=[25,90])\n\nfig.show()",
      "metadata": {
        "trusted": true
      },
      "execution_count": null,
      "outputs": [],
      "id": "eb1fef7d-69cf-4d63-bfd5-0210e55a437f"
    },
    {
      "cell_type": "code",
      "source": "tips_df",
      "metadata": {
        "trusted": true
      },
      "execution_count": null,
      "outputs": [],
      "id": "79df6b0f-881a-4ee2-96ce-972b5683adbf"
    },
    {
      "cell_type": "code",
      "source": "px.box(tips_df, x='sex', y='total_bill', color='smoker', animation_frame='day')",
      "metadata": {
        "trusted": true
      },
      "execution_count": null,
      "outputs": [],
      "id": "e7f29193-8979-41b0-93b3-8f7bcf8e19f9"
    },
    {
      "cell_type": "markdown",
      "source": "> **EXERCISE**: Create some graphs with controls an animations using other datasets.",
      "metadata": {},
      "id": "24d58c85-e714-4010-a084-56ee30c5763e"
    },
    {
      "cell_type": "code",
      "source": "",
      "metadata": {},
      "execution_count": null,
      "outputs": [],
      "id": "ca46e7a6-df37-4406-989d-ad1f62cd2168"
    },
    {
      "cell_type": "code",
      "source": "",
      "metadata": {},
      "execution_count": null,
      "outputs": [],
      "id": "58236d42-d98b-4b43-b3a3-8b46f21422e9"
    },
    {
      "cell_type": "markdown",
      "source": "Learn more about Plotly animations and custom controls here: https://plotly.com/python/#controls",
      "metadata": {},
      "id": "6d0881dd-1f2a-43dd-9528-7db2b8c1fee2"
    },
    {
      "cell_type": "markdown",
      "source": "## Summary and Further Reading\n\nWe've covered the following topics in this tutorial:\n\n- Creating figures & adding interactive elements\n- Replicating common graphs using Plotly\n- Using Plotly as a plotting backend for Pandas \n- Creating and exploring 3D graphs\n- Adding controls and animating graphs\n\n",
      "metadata": {},
      "id": "11928681-b0b4-45a3-b784-2d0e76100852"
    },
    {
      "cell_type": "markdown",
      "source": "## Questions for Revision\n1.\tWhat is Plotly?\n2.\tHow is Plotly different from Matplotlib and Seaborn?\n3.\tHow do you plot line chart with Plotly? Illustrate with an example.\n4.\tWhat is the difference between `plt.bar`, `sns.barplot` and `px.bar`?\n5.\tWhat are the popular interactive charts in Plotly?\n6.\tWhat is the `color_discrete_sequence parameter` in Plotly?\n7.\tHow do you set titles for axes in Plotly?\n8.\tWhat is `hover_data` parameter in Plotly?\n9.\tHow do you plot sunburst chart with Plotly? Illustrate with an example.\n10.\tIllustrate the usage of a Treemap in Plotly.\n11.\tWhat is marginal parameter in Plotly?\n12.\tWhat is a polar chart? Illustrate with an example.\n13.\tHow can you use Plotly as backend for plot methods in Pandas dataframes and series? \n14.\tWhat is a boxplot? Plot it using Plotly.\n15.\tWhat is `graph_objects` in Plotly?\n16.\tHow do you import `graph_objects`?\n17.\tWhat kind of 3D plots can you be plotted using Plotly?\n18.\tWhat is an animated graph? Illustrate with an example.\n19.\tWhat is an `animation_frame`?\n20.\tWhat is an `animation_group`?",
      "metadata": {},
      "id": "1df9347d-6ef5-4e8b-b486-9e786746bc88"
    },
    {
      "cell_type": "markdown",
      "source": "## Solutions for Exercises\n",
      "metadata": {},
      "id": "067adcab-e3b3-4b79-a382-5c0932767240"
    },
    {
      "cell_type": "markdown",
      "source": "> **EXERCISE**: Compare the annual population increase of India and China using a line chart. Which of the two countries is growing faster? Hint: Use `population_df.diff()`",
      "metadata": {},
      "id": "dafa18b0-86d8-49ae-b1c1-88054e7c5eed"
    },
    {
      "cell_type": "code",
      "source": "annual_population_increase_df = population_df[[\"India\", \"China\"]].diff(axis = 0)",
      "metadata": {
        "trusted": true
      },
      "execution_count": null,
      "outputs": [],
      "id": "eaff29ef-2bb9-46b9-85bb-7fc85d080a7f"
    },
    {
      "cell_type": "code",
      "source": "fig =px.line(annual_population_increase_df, title = 'Annual population increase of India and China')\nfig.update_layout(yaxis_title='Population Increase', \n                  xaxis_title='Year',\n                  legend_title='Countries')\nfig.show()",
      "metadata": {
        "trusted": true
      },
      "execution_count": null,
      "outputs": [],
      "id": "fa2eb902-9ebe-4235-b3be-1d9604fba28d"
    },
    {
      "cell_type": "markdown",
      "source": "**OBSERVATION**: Toppr - Rapid growth of population is known as *Exponential growth* where the population is increased with the constant increasing birth rate. From the above graph, China has a rapid growth and decrease in population where as India has a consistent growth of population over the years.",
      "metadata": {},
      "id": "0a1b3404-70ba-404f-b3ba-a6a9aed8019d"
    },
    {
      "cell_type": "markdown",
      "source": "> **EXERCISE**: Compare the populations of 10 most populous African countries (as of 2019) over the last 50 years using line charts. ",
      "metadata": {},
      "id": "90483d38-9bf6-4d71-9817-bcad412daf1d"
    },
    {
      "cell_type": "code",
      "source": "continent_df=pd.read_csv('https://raw.githubusercontent.com/dbouquin/IS_608/master/NanosatDB_munging/Countries-Continents.csv')\nafrican_countries=list(continent_df[continent_df['Continent']=='Africa']['Country'])",
      "metadata": {
        "trusted": true
      },
      "execution_count": null,
      "outputs": [],
      "id": "d8786b57-8d61-4e5c-999a-68fc3a449ef4"
    },
    {
      "cell_type": "code",
      "source": "population_of_2019=pd.DataFrame(population_df.loc[2019]).reset_index()\npopulation_of_2019.rename(columns = {'index':'Country', 2019:'Population'}, inplace = True)\nis_african_country = population_of_2019.Country.isin(african_countries)\ntop_10_african_countries = population_of_2019[is_african_country].sort_values('Population', ascending = False).head(10)\nlist_of_top_10_african_countries = list(top_10_african_countries['Country'])\nMost_populous_african_countries = population_df[list_of_top_10_african_countries].loc[1970:]",
      "metadata": {
        "trusted": true
      },
      "execution_count": null,
      "outputs": [],
      "id": "b729bf91-4d35-43d7-9fc8-5a6eec706840"
    },
    {
      "cell_type": "code",
      "source": "fig = px.line(Most_populous_african_countries)\nfig.show()",
      "metadata": {
        "trusted": true
      },
      "execution_count": null,
      "outputs": [],
      "id": "4e6c7e9b-6632-4124-a524-7c160c44158d"
    },
    {
      "cell_type": "markdown",
      "source": "**OBSERVATION**: Nigeria has the highest population growth in the last 50 years.",
      "metadata": {},
      "id": "0f5c50bc-6e1d-4c1c-ab7b-7991bf458635"
    },
    {
      "cell_type": "markdown",
      "source": "> **EXERCISE**: Explore the documentation for `px.line`, `fig.update_layout` and `fig.update_yaxes`. Use their arguments to style the charts you've created.",
      "metadata": {},
      "id": "928cf744-68cd-4c24-922c-eee0ae433dc5"
    },
    {
      "cell_type": "code",
      "source": "fig = px.line(Most_populous_african_countries,title='Top 10(2019) African countries population growth over 50 years')\nfig.update_layout(yaxis_title='Population', \n                  xaxis_title='Year',\n                  legend_title='Countries')\nfig.update_xaxes(color='brown')\nfig.update_yaxes(color='brown')",
      "metadata": {
        "trusted": true
      },
      "execution_count": null,
      "outputs": [],
      "id": "045fb46e-b157-484c-abd9-264fa5b18751"
    },
    {
      "cell_type": "markdown",
      "source": "> **EXERCISE**: Download the dataset `px.data.gapminder()` and visualize the relationship between GDP per capita and life expectancy in the year 2007 using a scatter plot. Set proper titles for the figure and the axes. Color the dots using the values in `continent` column, and show the country name and population on hover. ",
      "metadata": {},
      "id": "2b198509-b38c-4747-a6cd-991740347e32"
    },
    {
      "cell_type": "code",
      "source": "gapminder_df=px.data.gapminder()",
      "metadata": {
        "trusted": true
      },
      "execution_count": null,
      "outputs": [],
      "id": "8c2a2293-d47d-4561-941b-2317ec0e155b"
    },
    {
      "cell_type": "code",
      "source": "data_of_2007 = gapminder_df[gapminder_df.year ==2007]",
      "metadata": {
        "trusted": true
      },
      "execution_count": null,
      "outputs": [],
      "id": "a35fb613-ab52-4fb5-ac75-126b56d508df"
    },
    {
      "cell_type": "code",
      "source": "fig=px.scatter(data_of_2007, \n           x=\"gdpPercap\", \n           y=\"lifeExp\", \n           color=\"continent\", \n           hover_data=['country',\"pop\"],\n           title='Relationship between GDP per capita and life expectancy in the year 2007')\nfig.update_layout(xaxis_title='GDP per capita', \n                  yaxis_title='Life expectancy',\n                  legend_title='Continent')",
      "metadata": {
        "trusted": true
      },
      "execution_count": null,
      "outputs": [],
      "id": "bfe70bbc-d36e-4113-8328-9086e6b117d1"
    },
    {
      "cell_type": "markdown",
      "source": "**OBSERVATION**: GDP per capita and life expectancy in the year 2007 seem to have a 'curvilinear relationship'. \n- Curvilinear relationship - A Curvilinear Relationship is a type of relationship between two variables where as one variable increases, so does the other variable, but only up to a certain point, after which, as one variable continues to increase, the other decreases.",
      "metadata": {},
      "id": "b69de3e7-d72a-4c77-b877-93e104f22394"
    },
    {
      "cell_type": "markdown",
      "source": "> **EXERCISE**: Look up the documentation of `px.bar` and show the bars in the above chart side by side instead of stacking them on top of each other. \n\n- [*Reference to Bar Chart `long_df` visualization.*](https://jovian.ai/aakashns/interactive-visualization-plotly/v/18#C42)",
      "metadata": {},
      "id": "a8893a6b-6201-4507-a589-e7f5b36e9892"
    },
    {
      "cell_type": "code",
      "source": "fig = px.bar(long_df, \n             x=\"nation\", \n             y=\"count\", \n             color=\"medal\", \n             title=\"Olympic Short Track Speed Skating Medals\",\n             barmode = \"group\",\n             color_discrete_sequence=[\"#AF9500\", \"#B4B4B4\", \"#6A3805\"])\nfig.show()",
      "metadata": {
        "trusted": true
      },
      "execution_count": null,
      "outputs": [],
      "id": "45ea450d-f7f0-4998-bcdb-84fbeec626af"
    },
    {
      "cell_type": "markdown",
      "source": "> **EXERCISE**: Replicate the above example with a different dataset. Find a dataset online or pick one from this page: https://plotly.com/python-api-reference/generated/plotly.express.data.html\n\n- [*Reference to Bar chart visualization exercise*](https://jovian.ai/aakashns/interactive-visualization-plotly/v/18#C42)",
      "metadata": {},
      "id": "ce0b726c-3b28-43b5-bc18-d222f840a624"
    },
    {
      "cell_type": "code",
      "source": "tips_df =  px.data.tips()",
      "metadata": {
        "trusted": true
      },
      "execution_count": null,
      "outputs": [],
      "id": "9ff7a48c-9062-4edc-9a45-ab96ed87f83d"
    },
    {
      "cell_type": "code",
      "source": "tips_df",
      "metadata": {
        "trusted": true
      },
      "execution_count": null,
      "outputs": [],
      "id": "716b7759-731d-471c-867e-7cb9f350ed59"
    },
    {
      "cell_type": "code",
      "source": "fig = px.bar(tips_df,\n            x=\"time\",\n            y=\"tip\",\n            color=\"sex\",\n            title = \"Tips received at different times of the day\",\n            barmode='group',\n            color_discrete_sequence=[\"#AF9500\", \"#B4B4B4\"])\nfig.show()            ",
      "metadata": {
        "trusted": true
      },
      "execution_count": null,
      "outputs": [],
      "id": "38e183c1-772e-4319-a907-bd6c4f28cd14"
    },
    {
      "cell_type": "markdown",
      "source": "**OBSERVATION**: Tips for male during the dinner time of the day are highest. Insteresting. Evening/Night shifts are taken up by men mostly and that could possibly be the reason for the huge difference. ",
      "metadata": {},
      "id": "95e8d6aa-411c-4ec5-9cfa-bf4041a43da3"
    },
    {
      "cell_type": "markdown",
      "source": "> **EXERCISE**: Replicate the above example with a different dataset. Find a dataset online or pick one from this page: https://plotly.com/python-api-reference/generated/plotly.express.data.html\n\n- [*Reference to treemap and sunburst visualization exercise.*](https://jovian.ai/aakashns/interactive-visualization-plotly/v/18#C52)",
      "metadata": {},
      "id": "4d853718-6654-4622-a88a-5a0a6ba45c81"
    },
    {
      "cell_type": "code",
      "source": "elections = px.data.election()\nelections.head(5)",
      "metadata": {
        "trusted": true
      },
      "execution_count": null,
      "outputs": [],
      "id": "ee0048bb-c329-47be-84e7-0e9cc9396b65"
    },
    {
      "cell_type": "code",
      "source": "fig = px.treemap(elections,\n               path=[\"winner\",\"result\",\"district_id\"],\n               values= \"total\",\n               color_continuous_scale=\"RdBu\")\nfig.show()",
      "metadata": {
        "trusted": true
      },
      "execution_count": null,
      "outputs": [],
      "id": "6c7b936d-f07a-4d33-8eca-3f15b52b09d2"
    },
    {
      "cell_type": "code",
      "source": "fig = px.sunburst(elections,\n               path=[\"winner\",\"result\",\"district_id\"],\n               values= \"total\",\n               color_continuous_scale=\"RdBu\")\nfig.show()",
      "metadata": {
        "trusted": true
      },
      "execution_count": null,
      "outputs": [],
      "id": "0af51fad-4dab-408a-8dcf-43dbea257809"
    },
    {
      "cell_type": "markdown",
      "source": "**OBSERVATION**: Coderre has highest number of votes with maximum plurality wins and Joly has has the least number of votes with only two majority wins.",
      "metadata": {},
      "id": "7a353f6f-6ea8-4588-87f0-4ae538c11b17"
    },
    {
      "cell_type": "markdown",
      "source": "> **EXERCISE**: Replace `\"rug\"` with `\"box\"` or `\"violin\"` in the above example and study the charts. Do you understand what the marginal plots represent?\n\n- [*Reference to `tips_df` histogram visualization.*](https://jovian.ai/aakashns/interactive-visualization-plotly/v/18#C62)",
      "metadata": {},
      "id": "065e30f5-8bf6-4d0f-8566-75dbf1db3fa4"
    },
    {
      "cell_type": "code",
      "source": "fig = px.histogram(tips_df, \n                   x=\"total_bill\", \n                   color=\"sex\", \n                   marginal=\"box\", \n                   hover_data=tips_df.columns)\nfig.show()",
      "metadata": {
        "trusted": true
      },
      "execution_count": null,
      "outputs": [],
      "id": "73bc27fe-0208-4388-89ec-1c193fad996e"
    },
    {
      "cell_type": "code",
      "source": "fig = px.histogram(tips_df, \n                   x=\"total_bill\", \n                   color=\"sex\", \n                   marginal=\"violin\", \n                   hover_data=tips_df.columns)\nfig.show()",
      "metadata": {
        "trusted": true
      },
      "execution_count": null,
      "outputs": [],
      "id": "3bad76af-1405-46e3-9754-f762c095216b"
    },
    {
      "cell_type": "markdown",
      "source": "**OBSERVATION**: Marginal plots represent the small subplots above the main plot, which show the distribution of data along only one dimension. ",
      "metadata": {},
      "id": "2e0891ea-58cb-4a60-9407-856ddbccf079"
    },
    {
      "cell_type": "markdown",
      "source": "> **EXERCISE**: Replicate the above example with a different dataset. Find a dataset online or pick one from this page: https://plotly.com/python-api-reference/generated/plotly.express.data.html\n\n- [*Reference to histogram visualization exercise.*](https://jovian.ai/aakashns/interactive-visualization-plotly/v/18#C62)",
      "metadata": {},
      "id": "42add634-4d70-414b-9a93-8f4f1c7d9547"
    },
    {
      "cell_type": "code",
      "source": "car_share=px.data.carshare()\ncar_share",
      "metadata": {
        "trusted": true
      },
      "execution_count": null,
      "outputs": [],
      "id": "555e7c73-998e-4714-8893-7a81ab23ffbb"
    },
    {
      "cell_type": "code",
      "source": "fig = px.histogram(car_share, \n                   x=\"car_hours\", \n                   marginal=\"rug\", \n                   hover_data=car_share.columns)\nfig.show()",
      "metadata": {
        "trusted": true
      },
      "execution_count": null,
      "outputs": [],
      "id": "389e057e-d16a-43ee-b664-0271fa144145"
    },
    {
      "cell_type": "code",
      "source": "fig = px.histogram(car_share, \n                   x=\"car_hours\", \n                   marginal=\"box\", \n                   hover_data=car_share.columns)\nfig.show()",
      "metadata": {
        "trusted": true
      },
      "execution_count": null,
      "outputs": [],
      "id": "8a3a220c-91fe-4b30-9b5d-cc10d25562b1"
    },
    {
      "cell_type": "code",
      "source": "fig = px.histogram(car_share, \n                   x=\"car_hours\", \n                   marginal=\"violin\", \n                   hover_data=car_share.columns)\nfig.show()",
      "metadata": {
        "trusted": true
      },
      "execution_count": null,
      "outputs": [],
      "id": "72c5cb8f-67d3-4f19-bdf1-8d979ac7d032"
    },
    {
      "cell_type": "markdown",
      "source": "**OBSERVATION**: `car_hours` seem to follow a normal distribution with few outliers.",
      "metadata": {},
      "id": "c33f647c-0bfd-4feb-ab81-c3f36cad7067"
    },
    {
      "cell_type": "markdown",
      "source": "> **EXERCISE**: Replace `line_polar` with `scatter_polar` or `bar_polar` in the example above and interpret the chart. When would you use one vs. the other?\n\n- [*Reference to `wind_df` polar chart visualization.*](https://jovian.ai/aakashns/interactive-visualization-plotly/v/18#C74)",
      "metadata": {},
      "id": "960dc5aa-8bad-4293-bdde-c2b5d9fc7c3f"
    },
    {
      "cell_type": "code",
      "source": "fig = px.scatter_polar(wind_df, \n                    r=\"frequency\",\n                    theta=\"direction\", \n                    color=\"strength\", \n                    color_discrete_sequence=px.colors.sequential.Plasma_r,\n                    template=\"plotly_dark\")\nfig.show()",
      "metadata": {
        "trusted": true
      },
      "execution_count": null,
      "outputs": [],
      "id": "44996862-2b3e-40c7-b57d-91851e1a3519"
    },
    {
      "cell_type": "code",
      "source": "fig = px.bar_polar(wind_df, \n                    r=\"frequency\",\n                    theta=\"direction\", \n                    color=\"strength\",\n                    color_discrete_sequence=px.colors.sequential.Plasma_r,\n                    template=\"plotly_dark\")\nfig.show()",
      "metadata": {
        "trusted": true
      },
      "execution_count": null,
      "outputs": [],
      "id": "2c425541-8776-45f0-8c71-b025ab1cba8f"
    },
    {
      "cell_type": "markdown",
      "source": "**OBSERVATION**: Bar polar charts are mostly used for categorical data where as scatter polar charts are used for data containing amount and direction values.",
      "metadata": {},
      "id": "761f2000-b0cd-43ab-a54a-c1722ea2aa78"
    },
    {
      "cell_type": "markdown",
      "source": "> **EXERCISE**: Replicate the above example with a different dataset. Find a dataset online or pick one from this page: https://plotly.com/python-api-reference/generated/plotly.express.data.html\n\n- [*Reference to polar chart visualization exercise.*](https://jovian.ai/aakashns/interactive-visualization-plotly/v/18#C74)",
      "metadata": {},
      "id": "95ec9e09-66e8-4135-82a1-0c18f5afd577"
    },
    {
      "cell_type": "code",
      "source": "tips_df",
      "metadata": {
        "trusted": true
      },
      "execution_count": null,
      "outputs": [],
      "id": "feacd704-18f3-4e1f-a7ca-a4b29593ed9a"
    },
    {
      "cell_type": "code",
      "source": "fig = px.scatter_polar(tips_df, \n                    r=\"total_bill\",\n                    theta=\"day\", \n                    color=\"time\",\n                    template=\"plotly_dark\")\nfig.show()\n",
      "metadata": {
        "trusted": true
      },
      "execution_count": null,
      "outputs": [],
      "id": "920a9bc4-588e-4263-aa92-c1c7f7631206"
    },
    {
      "cell_type": "markdown",
      "source": "**OBSERVATION**: Dinner time of the day during weekends recorded the highest paid bills at the restaurant.",
      "metadata": {},
      "id": "d93682fb-7f18-4480-8894-98312749213f"
    },
    {
      "cell_type": "code",
      "source": "fig = px.bar_polar(tips_df, \n                    r=\"tip\",\n                    theta=\"day\", \n                    color=\"time\",\n                    template=\"plotly_dark\")\nfig.show()\n",
      "metadata": {
        "trusted": true
      },
      "execution_count": null,
      "outputs": [],
      "id": "8f6e46fa-2757-427c-88a4-5b600d1b9ba9"
    },
    {
      "cell_type": "markdown",
      "source": "**OBSERVATION**: Dinner time of the day during weekends received the maximum number of tips.",
      "metadata": {},
      "id": "a156bcfb-48ae-4296-8173-a0622299849b"
    },
    {
      "cell_type": "markdown",
      "source": "> **EXERCISE**: Replicate the above examples with different datasets. Find a dataset online or pick from this page: https://plotly.com/python-api-reference/generated/plotly.express.data.html\n\n- [*Reference to Using Plotly as a plotting backend for Pandas exercise.*](https://jovian.ai/aakashns/interactive-visualization-plotly/v/18#C83)",
      "metadata": {},
      "id": "5c13e4da-9c19-4e94-a5e3-d10c05dd3e2c"
    },
    {
      "cell_type": "code",
      "source": "elections.head()",
      "metadata": {
        "trusted": true
      },
      "execution_count": null,
      "outputs": [],
      "id": "b5a6c12d-d272-492f-a9c9-e4566551d408"
    },
    {
      "cell_type": "code",
      "source": "elections.plot(x='total', \n             y='winner',  \n             color='result', \n             kind='barh',\n             barmode='group',\n             title=\"Elections total votes of the winners\",\n             color_discrete_sequence=[\"#AF9500\", \"#B4B4B4\", \"#6A3805\"])",
      "metadata": {
        "trusted": true
      },
      "execution_count": null,
      "outputs": [],
      "id": "8bd083f4-b1ed-4efe-b6e5-430b13e2cccd"
    },
    {
      "cell_type": "markdown",
      "source": "**OBSERVATION**: Coderre has highest number of votes with maximum plurality wins and Joly has has the least number of votes with only two majority wins.",
      "metadata": {},
      "id": "929a60e7-4782-49b1-94cf-87428964cd17"
    },
    {
      "cell_type": "code",
      "source": "fig = elections.plot('winner', \n                   kind='hist', \n                   title=\"Distribution of Winners\")\nfig.update_layout(bargap=0.1)\nfig.show()",
      "metadata": {
        "trusted": true
      },
      "execution_count": null,
      "outputs": [],
      "id": "608b29d1-8ee1-4a2c-9c57-01c20b5e9f1d"
    },
    {
      "cell_type": "markdown",
      "source": "**OBSERVATION**: Coderre has the maximum number of entries in the `elections` dataset indicating that this person must have won elections in many districts. ",
      "metadata": {},
      "id": "17765235-7f2f-49ca-afc4-3f7eae326c01"
    },
    {
      "cell_type": "code",
      "source": "gapminder_df.plot('lifeExp', kind='box', color='continent')",
      "metadata": {
        "trusted": true
      },
      "execution_count": null,
      "outputs": [],
      "id": "757f4a94-be41-484e-a3c1-3316ad4c277b"
    },
    {
      "cell_type": "markdown",
      "source": "**OBSERVATION**: Europe and African continents have more outliers when compared to other continents in Life Expextancy. Asia has the highest Life Expectancy with 82.6 years and Africa the least Life Expectancy with 23.5 years.",
      "metadata": {},
      "id": "01b96575-ac9b-45ad-9836-c3f949af24de"
    },
    {
      "cell_type": "markdown",
      "source": "> **EXERCISE**: Create some 3D surface, line and scatter plots using some other datasets.\n\n- [*Reference to Creating and exploring 3D graphs exercise.*](https://jovian.ai/aakashns/interactive-visualization-plotly/v/18#C96)",
      "metadata": {},
      "id": "10ecf6ee-2112-487d-a53c-e362bd1dd636"
    },
    {
      "cell_type": "code",
      "source": "px.scatter_3d(elections, \n              x='winner', \n              y='total', \n              z='Joly', color='result')",
      "metadata": {
        "trusted": true
      },
      "execution_count": null,
      "outputs": [],
      "id": "604f86f6-708b-47c3-ab90-d76ee824b790"
    },
    {
      "cell_type": "markdown",
      "source": "> **EXERCISE**: Create some graphs with controls an animations using other datasets.\n\n- [*Reference to Adding controls and animating graphs exercise.*](https://jovian.ai/aakashns/interactive-visualization-plotly/v/18#C108)",
      "metadata": {},
      "id": "199936f3-6f7d-4c0a-8116-5921c4fb48f9"
    },
    {
      "cell_type": "code",
      "source": "df = px.data.carshare()\ndf.sort_values(by='peak_hour',inplace=True)",
      "metadata": {
        "trusted": true
      },
      "execution_count": null,
      "outputs": [],
      "id": "6a9a296e-06a2-43b6-8a19-3738c86466ba"
    },
    {
      "cell_type": "code",
      "source": "fig = px.bar(df, \n                 x=df.index, \n                 y=\"car_hours\", \n                 animation_frame=\"peak_hour\",  \n                 log_x=True,\n                 range_x=[10,100])\n\nfig.show()",
      "metadata": {
        "trusted": true
      },
      "execution_count": null,
      "outputs": [],
      "id": "788a736d-4c7a-49d1-8fa3-65955c267476"
    }
  ]
}